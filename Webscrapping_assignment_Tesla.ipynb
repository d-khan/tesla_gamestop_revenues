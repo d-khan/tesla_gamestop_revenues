{
 "cells": [
  {
   "cell_type": "code",
   "execution_count": 271,
   "id": "8b689ab0-29fb-45fa-bbad-6654908eba2c",
   "metadata": {},
   "outputs": [],
   "source": [
    "import pandas as pd\n",
    "import numpy as np\n",
    "import requests\n",
    "import matplotlib.pyplot as plt\n",
    "from bs4 import BeautifulSoup"
   ]
  },
  {
   "cell_type": "code",
   "execution_count": 227,
   "id": "cbd98e17-e796-4e25-9f7b-0d43f37154d1",
   "metadata": {},
   "outputs": [],
   "source": [
    "url = \"https://www.macrotrends.net/stocks/charts/TSLA/tesla/revenue\""
   ]
  },
  {
   "cell_type": "code",
   "execution_count": 228,
   "id": "c38c83b5-f7f9-4c5c-82ce-d80efc8e3bd1",
   "metadata": {},
   "outputs": [],
   "source": [
    "data = requests.get(url).text"
   ]
  },
  {
   "cell_type": "code",
   "execution_count": 229,
   "id": "c4f5fc3a-5df5-4f94-a186-107748c7066a",
   "metadata": {},
   "outputs": [],
   "source": [
    "soup = BeautifulSoup(data,\"html.parser\")"
   ]
  },
  {
   "cell_type": "code",
   "execution_count": 230,
   "id": "2ef92cc5-5cb1-44f9-abd2-7554864668ce",
   "metadata": {},
   "outputs": [],
   "source": [
    "table = soup.find_all('table') # in html table is represented by the tag <table>"
   ]
  },
  {
   "cell_type": "code",
   "execution_count": 231,
   "id": "840fbe97-8747-482e-9e32-b3c30341e12d",
   "metadata": {},
   "outputs": [],
   "source": [
    "tesla_av_rev = pd.DataFrame(columns=[\"Date\",\"Tesla Annual Revenue (Millions of USD)\"])\n",
    "tesla_qt_rev = pd.DataFrame(columns=[\"Date\",\"Tesla Quarterly Revenue (Millions of USD)\"])"
   ]
  },
  {
   "cell_type": "code",
   "execution_count": null,
   "id": "161ff0b7-8a9a-4641-a79d-9092cf007658",
   "metadata": {},
   "outputs": [],
   "source": []
  },
  {
   "cell_type": "code",
   "execution_count": 232,
   "id": "35fcdd54-3ade-4d2b-9e49-ce55707ab6fe",
   "metadata": {},
   "outputs": [],
   "source": [
    "for row in table[0].tbody.find_all(\"tr\"):\n",
    "    col = row.find_all(\"td\")\n",
    "    if (col != []):\n",
    "        date = col[0].text\n",
    "        ann_rev = col[1].text\n",
    "        tesla_av_rev = tesla_av_rev.append({\"Date\":date,\"Tesla Annual Revenue (Millions of USD)\":ann_rev},ignore_index=True)\n"
   ]
  },
  {
   "cell_type": "code",
   "execution_count": 233,
   "id": "4d599b56-6585-4267-bf11-ea9d9494a7a9",
   "metadata": {},
   "outputs": [],
   "source": [
    "for row in table[1].tbody.find_all(\"tr\"):\n",
    "    col = row.find_all(\"td\")\n",
    "    if (col != []):\n",
    "        date = col[0].text\n",
    "        qtr_rev = col[1].text\n",
    "        tesla_qt_rev = tesla_qt_rev.append({\"Date\":date,\"Tesla Quarterly Revenue (Millions of USD)\":qtr_rev},ignore_index=True)\n"
   ]
  },
  {
   "cell_type": "code",
   "execution_count": 234,
   "id": "30a1b35f-11f5-489b-be6b-40bfd3828b2e",
   "metadata": {},
   "outputs": [],
   "source": [
    "tesla_qt_rev[\"Tesla Quarterly Revenue (Millions of USD)\"].replace(\"\",np.nan,inplace=True)"
   ]
  },
  {
   "cell_type": "code",
   "execution_count": 235,
   "id": "cf467fa1-38d6-482a-ac18-13ca2c889c0f",
   "metadata": {
    "tags": []
   },
   "outputs": [],
   "source": [
    "tesla_qt_rev = tesla_qt_rev.dropna()"
   ]
  },
  {
   "cell_type": "code",
   "execution_count": 236,
   "id": "58a62905-2254-4893-adeb-12b3d08ef4b9",
   "metadata": {},
   "outputs": [],
   "source": [
    "tesla_av_rev[\"Tesla Annual Revenue (Millions of USD)\"] = tesla_av_rev[\"Tesla Annual Revenue (Millions of USD)\"].str.replace(\"[$,\\,]\", \"\", regex=True)"
   ]
  },
  {
   "cell_type": "code",
   "execution_count": 237,
   "id": "2637b718-7c81-4d93-b0a2-3adbbc408532",
   "metadata": {},
   "outputs": [],
   "source": [
    "tesla_qt_rev[\"Tesla Quarterly Revenue (Millions of USD)\"] = tesla_qt_rev[\"Tesla Quarterly Revenue (Millions of USD)\"].str.replace(\"[$,\\,]\", \"\", regex=True)"
   ]
  },
  {
   "cell_type": "code",
   "execution_count": 238,
   "id": "438b85ad-d635-4a7b-930e-f2ab69cc07fb",
   "metadata": {},
   "outputs": [
    {
     "data": {
      "text/html": [
       "<div>\n",
       "<style scoped>\n",
       "    .dataframe tbody tr th:only-of-type {\n",
       "        vertical-align: middle;\n",
       "    }\n",
       "\n",
       "    .dataframe tbody tr th {\n",
       "        vertical-align: top;\n",
       "    }\n",
       "\n",
       "    .dataframe thead th {\n",
       "        text-align: right;\n",
       "    }\n",
       "</style>\n",
       "<table border=\"1\" class=\"dataframe\">\n",
       "  <thead>\n",
       "    <tr style=\"text-align: right;\">\n",
       "      <th></th>\n",
       "      <th>Date</th>\n",
       "      <th>Tesla Quarterly Revenue (Millions of USD)</th>\n",
       "    </tr>\n",
       "  </thead>\n",
       "  <tbody>\n",
       "    <tr>\n",
       "      <th>44</th>\n",
       "      <td>2010-09-30</td>\n",
       "      <td>31</td>\n",
       "    </tr>\n",
       "    <tr>\n",
       "      <th>45</th>\n",
       "      <td>2010-06-30</td>\n",
       "      <td>28</td>\n",
       "    </tr>\n",
       "    <tr>\n",
       "      <th>46</th>\n",
       "      <td>2010-03-31</td>\n",
       "      <td>21</td>\n",
       "    </tr>\n",
       "    <tr>\n",
       "      <th>48</th>\n",
       "      <td>2009-09-30</td>\n",
       "      <td>46</td>\n",
       "    </tr>\n",
       "    <tr>\n",
       "      <th>49</th>\n",
       "      <td>2009-06-30</td>\n",
       "      <td>27</td>\n",
       "    </tr>\n",
       "  </tbody>\n",
       "</table>\n",
       "</div>"
      ],
      "text/plain": [
       "          Date Tesla Quarterly Revenue (Millions of USD)\n",
       "44  2010-09-30                                        31\n",
       "45  2010-06-30                                        28\n",
       "46  2010-03-31                                        21\n",
       "48  2009-09-30                                        46\n",
       "49  2009-06-30                                        27"
      ]
     },
     "execution_count": 238,
     "metadata": {},
     "output_type": "execute_result"
    }
   ],
   "source": [
    "tesla_qt_rev.tail()"
   ]
  },
  {
   "cell_type": "code",
   "execution_count": 239,
   "id": "e5b0dd80-35b9-4f8d-a5e2-60c995f016d4",
   "metadata": {},
   "outputs": [],
   "source": [
    "tesla_av_rev[\"Tesla Annual Revenue (Millions of USD)\"] = tesla_av_rev[\"Tesla Annual Revenue (Millions of USD)\"].astype(int) "
   ]
  },
  {
   "cell_type": "code",
   "execution_count": 252,
   "id": "ebd1f92d-ea6a-4610-9b13-c3e0c8c2c56c",
   "metadata": {},
   "outputs": [],
   "source": [
    "tesla_qt_rev[\"Date\"] = tesla_qt_rev[\"Date\"].astype('datetime64[ns]')"
   ]
  },
  {
   "cell_type": "code",
   "execution_count": 241,
   "id": "9e930a9f-3d94-46ed-a5fe-b84403ea0337",
   "metadata": {},
   "outputs": [],
   "source": [
    "tesla_av_rev = tesla_av_rev.sort_values(by=['Tesla Annual Revenue (Millions of USD)'])"
   ]
  },
  {
   "cell_type": "code",
   "execution_count": 254,
   "id": "d33b5b41-71b9-4adc-acc2-fdc521055395",
   "metadata": {},
   "outputs": [
    {
     "data": {
      "text/html": [
       "<div>\n",
       "<style scoped>\n",
       "    .dataframe tbody tr th:only-of-type {\n",
       "        vertical-align: middle;\n",
       "    }\n",
       "\n",
       "    .dataframe tbody tr th {\n",
       "        vertical-align: top;\n",
       "    }\n",
       "\n",
       "    .dataframe thead th {\n",
       "        text-align: right;\n",
       "    }\n",
       "</style>\n",
       "<table border=\"1\" class=\"dataframe\">\n",
       "  <thead>\n",
       "    <tr style=\"text-align: right;\">\n",
       "      <th></th>\n",
       "      <th>Date</th>\n",
       "      <th>Tesla Quarterly Revenue (Millions of USD)</th>\n",
       "    </tr>\n",
       "  </thead>\n",
       "  <tbody>\n",
       "    <tr>\n",
       "      <th>0</th>\n",
       "      <td>2021-09-30</td>\n",
       "      <td>13757</td>\n",
       "    </tr>\n",
       "    <tr>\n",
       "      <th>1</th>\n",
       "      <td>2021-06-30</td>\n",
       "      <td>11958</td>\n",
       "    </tr>\n",
       "    <tr>\n",
       "      <th>2</th>\n",
       "      <td>2021-03-31</td>\n",
       "      <td>10389</td>\n",
       "    </tr>\n",
       "    <tr>\n",
       "      <th>3</th>\n",
       "      <td>2020-12-31</td>\n",
       "      <td>10744</td>\n",
       "    </tr>\n",
       "    <tr>\n",
       "      <th>4</th>\n",
       "      <td>2020-09-30</td>\n",
       "      <td>8771</td>\n",
       "    </tr>\n",
       "  </tbody>\n",
       "</table>\n",
       "</div>"
      ],
      "text/plain": [
       "        Date  Tesla Quarterly Revenue (Millions of USD)\n",
       "0 2021-09-30                                      13757\n",
       "1 2021-06-30                                      11958\n",
       "2 2021-03-31                                      10389\n",
       "3 2020-12-31                                      10744\n",
       "4 2020-09-30                                       8771"
      ]
     },
     "execution_count": 254,
     "metadata": {},
     "output_type": "execute_result"
    }
   ],
   "source": []
  },
  {
   "cell_type": "code",
   "execution_count": 255,
   "id": "edb77350-6ced-4fd1-b46c-afd1d6a175a4",
   "metadata": {},
   "outputs": [],
   "source": [
    "tesla_qt_rev = tesla_qt_rev.sort_values(by=['Date'],ascending=False)"
   ]
  },
  {
   "cell_type": "code",
   "execution_count": 269,
   "id": "c9656781-d8ed-4125-9843-7d3f2807b68f",
   "metadata": {},
   "outputs": [
    {
     "data": {
      "text/plain": [
       "<AxesSubplot:title={'center':'Tesla Annual Revenue'}, xlabel='Year'>"
      ]
     },
     "execution_count": 269,
     "metadata": {},
     "output_type": "execute_result"
    },
    {
     "data": {
      "image/png": "[encoded data removed]",
      "text/plain": [
       "<Figure size 1440x720 with 1 Axes>"
      ]
     },
     "metadata": {
      "needs_background": "light"
     },
     "output_type": "display_data"
    }
   ],
   "source": [
    "tesla_av_rev.plot(x=\"Date\",y=\"Tesla Annual Revenue (Millions of USD)\",legend=True,title=\"Tesla Annual Revenue\",xlabel=\"Year\",figsize=(20,10),fontsize=16)"
   ]
  },
  {
   "cell_type": "code",
   "execution_count": 270,
   "id": "de7fe78c-da9c-421b-b1e2-3bcd72b21edf",
   "metadata": {},
   "outputs": [
    {
     "data": {
      "text/plain": [
       "<AxesSubplot:title={'center':'Tesla Quarterly Revenue'}, xlabel='Year'>"
      ]
     },
     "execution_count": 270,
     "metadata": {},
     "output_type": "execute_result"
    },
    {
     "data": {
      "image/png": "[encoded data removed]",
      "text/plain": [
       "<Figure size 1440x720 with 1 Axes>"
      ]
     },
     "metadata": {
      "needs_background": "light"
     },
     "output_type": "display_data"
    }
   ],
   "source": [
    "tesla_qt_rev.plot(x=\"Date\",y=\"Tesla Quarterly Revenue (Millions of USD)\",legend=True,title=\"Tesla Quarterly Revenue\",xlabel=\"Year\",figsize=(20,10),fontsize=16)"
   ]
  },
  {
   "cell_type": "code",
   "execution_count": 245,
   "id": "06d98940-d611-4541-bacc-a79027bc3e81",
   "metadata": {},
   "outputs": [
    {
     "data": {
      "text/html": [
       "<div>\n",
       "<style scoped>\n",
       "    .dataframe tbody tr th:only-of-type {\n",
       "        vertical-align: middle;\n",
       "    }\n",
       "\n",
       "    .dataframe tbody tr th {\n",
       "        vertical-align: top;\n",
       "    }\n",
       "\n",
       "    .dataframe thead th {\n",
       "        text-align: right;\n",
       "    }\n",
       "</style>\n",
       "<table border=\"1\" class=\"dataframe\">\n",
       "  <thead>\n",
       "    <tr style=\"text-align: right;\">\n",
       "      <th></th>\n",
       "      <th>Date</th>\n",
       "      <th>Tesla Quarterly Revenue (Millions of USD)</th>\n",
       "    </tr>\n",
       "  </thead>\n",
       "  <tbody>\n",
       "    <tr>\n",
       "      <th>0</th>\n",
       "      <td>2021-09-30</td>\n",
       "      <td>13757</td>\n",
       "    </tr>\n",
       "    <tr>\n",
       "      <th>1</th>\n",
       "      <td>2021-06-30</td>\n",
       "      <td>11958</td>\n",
       "    </tr>\n",
       "    <tr>\n",
       "      <th>2</th>\n",
       "      <td>2021-03-31</td>\n",
       "      <td>10389</td>\n",
       "    </tr>\n",
       "    <tr>\n",
       "      <th>3</th>\n",
       "      <td>2020-12-31</td>\n",
       "      <td>10744</td>\n",
       "    </tr>\n",
       "    <tr>\n",
       "      <th>4</th>\n",
       "      <td>2020-09-30</td>\n",
       "      <td>8771</td>\n",
       "    </tr>\n",
       "    <tr>\n",
       "      <th>5</th>\n",
       "      <td>2020-06-30</td>\n",
       "      <td>6036</td>\n",
       "    </tr>\n",
       "    <tr>\n",
       "      <th>6</th>\n",
       "      <td>2020-03-31</td>\n",
       "      <td>5985</td>\n",
       "    </tr>\n",
       "    <tr>\n",
       "      <th>7</th>\n",
       "      <td>2019-12-31</td>\n",
       "      <td>7384</td>\n",
       "    </tr>\n",
       "    <tr>\n",
       "      <th>8</th>\n",
       "      <td>2019-09-30</td>\n",
       "      <td>6303</td>\n",
       "    </tr>\n",
       "    <tr>\n",
       "      <th>9</th>\n",
       "      <td>2019-06-30</td>\n",
       "      <td>6350</td>\n",
       "    </tr>\n",
       "    <tr>\n",
       "      <th>10</th>\n",
       "      <td>2019-03-31</td>\n",
       "      <td>4541</td>\n",
       "    </tr>\n",
       "    <tr>\n",
       "      <th>11</th>\n",
       "      <td>2018-12-31</td>\n",
       "      <td>7226</td>\n",
       "    </tr>\n",
       "    <tr>\n",
       "      <th>12</th>\n",
       "      <td>2018-09-30</td>\n",
       "      <td>6824</td>\n",
       "    </tr>\n",
       "    <tr>\n",
       "      <th>13</th>\n",
       "      <td>2018-06-30</td>\n",
       "      <td>4002</td>\n",
       "    </tr>\n",
       "    <tr>\n",
       "      <th>14</th>\n",
       "      <td>2018-03-31</td>\n",
       "      <td>3409</td>\n",
       "    </tr>\n",
       "    <tr>\n",
       "      <th>15</th>\n",
       "      <td>2017-12-31</td>\n",
       "      <td>3288</td>\n",
       "    </tr>\n",
       "    <tr>\n",
       "      <th>16</th>\n",
       "      <td>2017-09-30</td>\n",
       "      <td>2985</td>\n",
       "    </tr>\n",
       "    <tr>\n",
       "      <th>17</th>\n",
       "      <td>2017-06-30</td>\n",
       "      <td>2790</td>\n",
       "    </tr>\n",
       "    <tr>\n",
       "      <th>18</th>\n",
       "      <td>2017-03-31</td>\n",
       "      <td>2696</td>\n",
       "    </tr>\n",
       "    <tr>\n",
       "      <th>19</th>\n",
       "      <td>2016-12-31</td>\n",
       "      <td>2285</td>\n",
       "    </tr>\n",
       "    <tr>\n",
       "      <th>20</th>\n",
       "      <td>2016-09-30</td>\n",
       "      <td>2298</td>\n",
       "    </tr>\n",
       "    <tr>\n",
       "      <th>21</th>\n",
       "      <td>2016-06-30</td>\n",
       "      <td>1270</td>\n",
       "    </tr>\n",
       "    <tr>\n",
       "      <th>22</th>\n",
       "      <td>2016-03-31</td>\n",
       "      <td>1147</td>\n",
       "    </tr>\n",
       "    <tr>\n",
       "      <th>23</th>\n",
       "      <td>2015-12-31</td>\n",
       "      <td>1214</td>\n",
       "    </tr>\n",
       "    <tr>\n",
       "      <th>24</th>\n",
       "      <td>2015-09-30</td>\n",
       "      <td>937</td>\n",
       "    </tr>\n",
       "    <tr>\n",
       "      <th>25</th>\n",
       "      <td>2015-06-30</td>\n",
       "      <td>955</td>\n",
       "    </tr>\n",
       "    <tr>\n",
       "      <th>26</th>\n",
       "      <td>2015-03-31</td>\n",
       "      <td>940</td>\n",
       "    </tr>\n",
       "    <tr>\n",
       "      <th>27</th>\n",
       "      <td>2014-12-31</td>\n",
       "      <td>957</td>\n",
       "    </tr>\n",
       "    <tr>\n",
       "      <th>28</th>\n",
       "      <td>2014-09-30</td>\n",
       "      <td>852</td>\n",
       "    </tr>\n",
       "    <tr>\n",
       "      <th>29</th>\n",
       "      <td>2014-06-30</td>\n",
       "      <td>769</td>\n",
       "    </tr>\n",
       "    <tr>\n",
       "      <th>30</th>\n",
       "      <td>2014-03-31</td>\n",
       "      <td>621</td>\n",
       "    </tr>\n",
       "    <tr>\n",
       "      <th>31</th>\n",
       "      <td>2013-12-31</td>\n",
       "      <td>615</td>\n",
       "    </tr>\n",
       "    <tr>\n",
       "      <th>32</th>\n",
       "      <td>2013-09-30</td>\n",
       "      <td>431</td>\n",
       "    </tr>\n",
       "    <tr>\n",
       "      <th>33</th>\n",
       "      <td>2013-06-30</td>\n",
       "      <td>405</td>\n",
       "    </tr>\n",
       "    <tr>\n",
       "      <th>34</th>\n",
       "      <td>2013-03-31</td>\n",
       "      <td>562</td>\n",
       "    </tr>\n",
       "    <tr>\n",
       "      <th>35</th>\n",
       "      <td>2012-12-31</td>\n",
       "      <td>306</td>\n",
       "    </tr>\n",
       "    <tr>\n",
       "      <th>36</th>\n",
       "      <td>2012-09-30</td>\n",
       "      <td>50</td>\n",
       "    </tr>\n",
       "    <tr>\n",
       "      <th>37</th>\n",
       "      <td>2012-06-30</td>\n",
       "      <td>27</td>\n",
       "    </tr>\n",
       "    <tr>\n",
       "      <th>38</th>\n",
       "      <td>2012-03-31</td>\n",
       "      <td>30</td>\n",
       "    </tr>\n",
       "    <tr>\n",
       "      <th>39</th>\n",
       "      <td>2011-12-31</td>\n",
       "      <td>39</td>\n",
       "    </tr>\n",
       "    <tr>\n",
       "      <th>40</th>\n",
       "      <td>2011-09-30</td>\n",
       "      <td>58</td>\n",
       "    </tr>\n",
       "    <tr>\n",
       "      <th>41</th>\n",
       "      <td>2011-06-30</td>\n",
       "      <td>58</td>\n",
       "    </tr>\n",
       "    <tr>\n",
       "      <th>42</th>\n",
       "      <td>2011-03-31</td>\n",
       "      <td>49</td>\n",
       "    </tr>\n",
       "    <tr>\n",
       "      <th>43</th>\n",
       "      <td>2010-12-31</td>\n",
       "      <td>36</td>\n",
       "    </tr>\n",
       "    <tr>\n",
       "      <th>44</th>\n",
       "      <td>2010-09-30</td>\n",
       "      <td>31</td>\n",
       "    </tr>\n",
       "    <tr>\n",
       "      <th>45</th>\n",
       "      <td>2010-06-30</td>\n",
       "      <td>28</td>\n",
       "    </tr>\n",
       "    <tr>\n",
       "      <th>46</th>\n",
       "      <td>2010-03-31</td>\n",
       "      <td>21</td>\n",
       "    </tr>\n",
       "    <tr>\n",
       "      <th>48</th>\n",
       "      <td>2009-09-30</td>\n",
       "      <td>46</td>\n",
       "    </tr>\n",
       "    <tr>\n",
       "      <th>49</th>\n",
       "      <td>2009-06-30</td>\n",
       "      <td>27</td>\n",
       "    </tr>\n",
       "  </tbody>\n",
       "</table>\n",
       "</div>"
      ],
      "text/plain": [
       "          Date  Tesla Quarterly Revenue (Millions of USD)\n",
       "0   2021-09-30                                      13757\n",
       "1   2021-06-30                                      11958\n",
       "2   2021-03-31                                      10389\n",
       "3   2020-12-31                                      10744\n",
       "4   2020-09-30                                       8771\n",
       "5   2020-06-30                                       6036\n",
       "6   2020-03-31                                       5985\n",
       "7   2019-12-31                                       7384\n",
       "8   2019-09-30                                       6303\n",
       "9   2019-06-30                                       6350\n",
       "10  2019-03-31                                       4541\n",
       "11  2018-12-31                                       7226\n",
       "12  2018-09-30                                       6824\n",
       "13  2018-06-30                                       4002\n",
       "14  2018-03-31                                       3409\n",
       "15  2017-12-31                                       3288\n",
       "16  2017-09-30                                       2985\n",
       "17  2017-06-30                                       2790\n",
       "18  2017-03-31                                       2696\n",
       "19  2016-12-31                                       2285\n",
       "20  2016-09-30                                       2298\n",
       "21  2016-06-30                                       1270\n",
       "22  2016-03-31                                       1147\n",
       "23  2015-12-31                                       1214\n",
       "24  2015-09-30                                        937\n",
       "25  2015-06-30                                        955\n",
       "26  2015-03-31                                        940\n",
       "27  2014-12-31                                        957\n",
       "28  2014-09-30                                        852\n",
       "29  2014-06-30                                        769\n",
       "30  2014-03-31                                        621\n",
       "31  2013-12-31                                        615\n",
       "32  2013-09-30                                        431\n",
       "33  2013-06-30                                        405\n",
       "34  2013-03-31                                        562\n",
       "35  2012-12-31                                        306\n",
       "36  2012-09-30                                         50\n",
       "37  2012-06-30                                         27\n",
       "38  2012-03-31                                         30\n",
       "39  2011-12-31                                         39\n",
       "40  2011-09-30                                         58\n",
       "41  2011-06-30                                         58\n",
       "42  2011-03-31                                         49\n",
       "43  2010-12-31                                         36\n",
       "44  2010-09-30                                         31\n",
       "45  2010-06-30                                         28\n",
       "46  2010-03-31                                         21\n",
       "48  2009-09-30                                         46\n",
       "49  2009-06-30                                         27"
      ]
     },
     "execution_count": 245,
     "metadata": {},
     "output_type": "execute_result"
    }
   ],
   "source": [
    "tesla_qt_rev"
   ]
  },
  {
   "cell_type": "code",
   "execution_count": 313,
   "id": "dd036dea-eeff-495f-9c9b-6330f281754d",
   "metadata": {},
   "outputs": [],
   "source": [
    "def make_graph(x,y,title,xlab,ylab):\n",
    "    plt.figure(figsize=(9, 6))\n",
    "    plt.plot(x,y)\n",
    "    plt.title(title,fontsize=16)\n",
    "    plt.xlabel(xlab,fontsize=16)\n",
    "    plt.ylabel(ylab,fontsize=16)"
   ]
  },
  {
   "cell_type": "code",
   "execution_count": 314,
   "id": "7b8a1aa4-3b19-450b-a3ad-a02f77e57225",
   "metadata": {},
   "outputs": [
    {
     "data": {
      "image/png": "[encoded data removed]",
      "text/plain": [
       "<Figure size 648x432 with 1 Axes>"
      ]
     },
     "metadata": {
      "needs_background": "light"
     },
     "output_type": "display_data"
    }
   ],
   "source": [
    "make_graph(tesla_av_rev[\"Date\"],tesla_av_rev[\"Tesla Annual Revenue (Millions of USD)\"],\n",
    "           \"Tesla Annual Revenue\",\"Year\",\"Annual Revenue (Millions of USD)\")"
   ]
  },
  {
   "cell_type": "code",
   "execution_count": 312,
   "id": "f7683fd9-7f69-4968-b867-3d2c7c30c7bc",
   "metadata": {},
   "outputs": [
    {
     "data": {
      "image/png": "[encoded data removed]",
      "text/plain": [
       "<Figure size 648x432 with 1 Axes>"
      ]
     },
     "metadata": {
      "needs_background": "light"
     },
     "output_type": "display_data"
    }
   ],
   "source": [
    "make_graph(tesla_qt_rev[\"Date\"],tesla_qt_rev[\"Tesla Quarterly Revenue (Millions of USD)\"],\n",
    "           \"Tesla Quarterly Revenue\",\"Year\",\"Quarterly Revenue (Millions of USD)\")"
   ]
  },
  {
   "cell_type": "code",
   "execution_count": null,
   "id": "532372f2-97f6-400e-ba44-7321a61e440a",
   "metadata": {},
   "outputs": [],
   "source": []
  }
 ],
 "metadata": {
  "kernelspec": {
   "display_name": "Python 3 (ipykernel)",
   "language": "python",
   "name": "python3"
  },
  "language_info": {
   "codemirror_mode": {
    "name": "ipython",
    "version": 3
   },
   "file_extension": ".py",
   "mimetype": "text/x-python",
   "name": "python",
   "nbconvert_exporter": "python",
   "pygments_lexer": "ipython3",
   "version": "3.9.6"
  }
 },
 "nbformat": 4,
 "nbformat_minor": 5
}
